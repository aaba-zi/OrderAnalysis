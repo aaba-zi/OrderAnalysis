{
 "cells": [
  {
   "cell_type": "markdown",
   "metadata": {},
   "source": [
    "### project to analyzing order data from Uber China\n",
    "### project for fun"
   ]
  },
  {
   "cell_type": "code",
   "execution_count": 1,
   "metadata": {},
   "outputs": [
    {
     "name": "stderr",
     "output_type": "stream",
     "text": [
      "-- \u001b[1mAttaching packages\u001b[22m --------------------------------------- tidyverse 1.3.0 --\n",
      "\n",
      "\u001b[32m√\u001b[39m \u001b[34mggplot2\u001b[39m 3.3.2     \u001b[32m√\u001b[39m \u001b[34mpurrr  \u001b[39m 0.3.4\n",
      "\u001b[32m√\u001b[39m \u001b[34mtibble \u001b[39m 3.0.3     \u001b[32m√\u001b[39m \u001b[34mdplyr  \u001b[39m 1.0.0\n",
      "\u001b[32m√\u001b[39m \u001b[34mtidyr  \u001b[39m 1.1.0     \u001b[32m√\u001b[39m \u001b[34mstringr\u001b[39m 1.4.0\n",
      "\u001b[32m√\u001b[39m \u001b[34mreadr  \u001b[39m 1.3.1     \u001b[32m√\u001b[39m \u001b[34mforcats\u001b[39m 0.5.0\n",
      "\n",
      "-- \u001b[1mConflicts\u001b[22m ------------------------------------------ tidyverse_conflicts() --\n",
      "\u001b[31mx\u001b[39m \u001b[34mdplyr\u001b[39m::\u001b[32mfilter()\u001b[39m masks \u001b[34mstats\u001b[39m::filter()\n",
      "\u001b[31mx\u001b[39m \u001b[34mdplyr\u001b[39m::\u001b[32mlag()\u001b[39m    masks \u001b[34mstats\u001b[39m::lag()\n",
      "\n",
      "\n",
      "Attaching package: 'scales'\n",
      "\n",
      "\n",
      "The following object is masked from 'package:purrr':\n",
      "\n",
      "    discard\n",
      "\n",
      "\n",
      "The following object is masked from 'package:readr':\n",
      "\n",
      "    col_factor\n",
      "\n",
      "\n"
     ]
    }
   ],
   "source": [
    "library(tidyverse) # load tidyverse\n",
    "library('scales') # load scales for calculating rate"
   ]
  },
  {
   "cell_type": "code",
   "execution_count": 2,
   "metadata": {},
   "outputs": [
    {
     "name": "stderr",
     "output_type": "stream",
     "text": [
      "Parsed with column specification:\n",
      "cols(\n",
      "  order_id = \u001b[32mcol_double()\u001b[39m,\n",
      "  passenger_id = \u001b[32mcol_double()\u001b[39m,\n",
      "  call_time = \u001b[31mcol_character()\u001b[39m,\n",
      "  grab_time = \u001b[31mcol_character()\u001b[39m,\n",
      "  cancel_time = \u001b[31mcol_character()\u001b[39m,\n",
      "  finish_time = \u001b[31mcol_character()\u001b[39m\n",
      ")\n",
      "\n"
     ]
    }
   ],
   "source": [
    "order_df <- \"order.csv\" %>% \n",
    "  read_csv() \n",
    "# read data from the csv file and make a dataframe named order_df"
   ]
  },
  {
   "cell_type": "code",
   "execution_count": 4,
   "metadata": {},
   "outputs": [
    {
     "name": "stdout",
     "output_type": "stream",
     "text": [
      "Rows: 297\n",
      "Columns: 6\n",
      "$ order_id     \u001b[3m\u001b[90m<dbl>\u001b[39m\u001b[23m 7.036883e+13, 7.036883e+13, 7.036883e+13, 7.036883e+13...\n",
      "$ passenger_id \u001b[3m\u001b[90m<dbl>\u001b[39m\u001b[23m 7.036875e+13, 7.036875e+13, 7.036875e+13, 7.036875e+13...\n",
      "$ call_time    \u001b[3m\u001b[90m<chr>\u001b[39m\u001b[23m \"2018/3/10 9:09\", \"2018/3/6 6:54\", \"2018/3/9 7:35\", \"2...\n",
      "$ grab_time    \u001b[3m\u001b[90m<chr>\u001b[39m\u001b[23m \"2018/3/10 9:09\", \"2018/3/6 6:54\", \"2018/3/9 7:37\", \"2...\n",
      "$ cancel_time  \u001b[3m\u001b[90m<chr>\u001b[39m\u001b[23m \"1971/1/1 0:00\", \"1971/1/1 0:00\", \"1971/1/1 0:00\", \"20...\n",
      "$ finish_time  \u001b[3m\u001b[90m<chr>\u001b[39m\u001b[23m \"2018/3/10 9:37\", \"2018/3/6 7:29\", \"2018/3/9 7:54\", \"1...\n"
     ]
    }
   ],
   "source": [
    "order_df %>% glimpse() # have a quick glimpse about the dataframe"
   ]
  },
  {
   "cell_type": "code",
   "execution_count": 5,
   "metadata": {},
   "outputs": [
    {
     "data": {
      "image/png": "[encoded data removed]",
      "text/plain": [
       "plot without title"
      ]
     },
     "metadata": {
      "image/png": {
       "height": 420,
       "width": 420
      }
     },
     "output_type": "display_data"
    }
   ],
   "source": [
    "library(visdat)\n",
    "# load visdat, give quick access to visualization of bike_df\n",
    "\n",
    "order_df %>% \n",
    "  vis_miss() # provides a custom plot for missing data\n",
    "# As we can see from the graph, there is no missing value, which is good"
   ]
  },
  {
   "cell_type": "code",
   "execution_count": 6,
   "metadata": {},
   "outputs": [
    {
     "name": "stdout",
     "output_type": "stream",
     "text": [
      "-- Data Summary ------------------------\n",
      "                           Values    \n",
      "Name                       Piped data\n",
      "Number of rows             297       \n",
      "Number of columns          6         \n",
      "_______________________              \n",
      "Column type frequency:               \n",
      "  character                4         \n",
      "  numeric                  2         \n",
      "________________________             \n",
      "Group variables            None      \n",
      "\n",
      "-- Variable type: character ----------------------------------------------------\n",
      "# A tibble: 4 x 8\n",
      "  skim_variable n_missing complete_rate   min   max empty n_unique whitespace\n",
      "* <chr>             <int>         <dbl> <int> <int> <int>    <int>      <int>\n",
      "1 call_time             0             1    13    15     0      289          0\n",
      "2 grab_time             0             1    13    15     0      213          0\n",
      "3 cancel_time           0             1    13    15     0      140          0\n",
      "4 finish_time           0             1    13    15     0      139          0\n",
      "\n",
      "-- Variable type: numeric ------------------------------------------------------\n",
      "# A tibble: 2 x 11\n",
      "  skim_variable n_missing complete_rate    mean       sd      p0     p25     p50\n",
      "* <chr>             <int>         <dbl>   <dbl>    <dbl>   <dbl>   <dbl>   <dbl>\n",
      "1 order_id              0             1 7.04e13 1920907. 7.04e13 7.04e13 7.04e13\n",
      "2 passenger_id          0             1 7.04e13 7221537. 7.04e13 7.04e13 7.04e13\n",
      "      p75    p100 hist \n",
      "*   <dbl>   <dbl> <chr>\n",
      "1 7.04e13 7.04e13 ▆▅▆▇▇\n",
      "2 7.04e13 7.04e13 ▁▂▁▂▇\n"
     ]
    }
   ],
   "source": [
    "library(skimr) #load library skimr\n",
    "order_df %>%\n",
    "  skim() # output a quick summary of the dataset"
   ]
  },
  {
   "cell_type": "code",
   "execution_count": 7,
   "metadata": {
    "collapsed": true,
    "jupyter": {
     "outputs_hidden": true
    }
   },
   "outputs": [
    {
     "name": "stderr",
     "output_type": "stream",
     "text": [
      "\n",
      "Attaching package: 'lubridate'\n",
      "\n",
      "\n",
      "The following objects are masked from 'package:base':\n",
      "\n",
      "    date, intersect, setdiff, union\n",
      "\n",
      "\n"
     ]
    }
   ],
   "source": [
    "library(lubridate) # load lubridate to change time zone"
   ]
  },
  {
   "cell_type": "code",
   "execution_count": 8,
   "metadata": {},
   "outputs": [],
   "source": [
    "std_order_df <- order_df %>%\n",
    "  mutate(call_date = as.POSIXct(call_time)) %>%\n",
    "  mutate(grab_date = as.POSIXct(grab_time)) %>%\n",
    "  mutate(cancel_date = as.POSIXct(cancel_time)) %>%\n",
    "  mutate(finish_date = as.POSIXct(finish_time))\n",
    "# create new column named call_date for converting time zone "
   ]
  },
  {
   "cell_type": "code",
   "execution_count": 9,
   "metadata": {},
   "outputs": [],
   "source": [
    "std_order_df %>%\n",
    "   select(-call_time, -grab_time, -cancel_time, -finish_time) -> std_order_df # drop character and keep datetime "
   ]
  },
  {
   "cell_type": "code",
   "execution_count": 10,
   "metadata": {},
   "outputs": [],
   "source": [
    "ymd_hms(std_order_df$call_date, tz = \"Asia/Shanghai\") %>%\n",
    "  with_tz(\"America/Sao_Paulo\") ->calldate\n",
    "ymd_hms(std_order_df$grab_date, tz = \"Asia/Shanghai\") %>%\n",
    "  with_tz(\"America/Sao_Paulo\") ->grabdate\n",
    "ymd_hms(std_order_df$cancel_date, tz = \"Asia/Shanghai\") %>%\n",
    "  with_tz(\"America/Sao_Paulo\") ->canceldate\n",
    "ymd_hms(std_order_df$finish_date, tz = \"Asia/Shanghai\") %>%\n",
    "  with_tz(\"America/Sao_Paulo\") ->finishdate\n",
    "# convert call time, grab time, cancel time and finish time into Brazil time zone"
   ]
  },
  {
   "cell_type": "code",
   "execution_count": 11,
   "metadata": {},
   "outputs": [],
   "source": [
    "std_order_df <- std_order_df %>% \n",
    "  mutate(call_date = calldate) %>% \n",
    "  mutate(grab_date = grabdate) %>%\n",
    "  mutate(cancel_date = canceldate) %>%\n",
    "  mutate(finish_date = finishdate)\n",
    "\n",
    "# replace data by Brazil \n",
    "# we can look at first 6 rows of dataframe to see if the converting is successful.\n",
    "# all the date is replaced by Brazil time"
   ]
  },
  {
   "cell_type": "code",
   "execution_count": 12,
   "metadata": {},
   "outputs": [
    {
     "data": {
      "text/html": [
       "<table>\n",
       "<caption>A tibble: 6 × 6</caption>\n",
       "<thead>\n",
       "\t<tr><th scope=col>order_id</th><th scope=col>passenger_id</th><th scope=col>call_date</th><th scope=col>grab_date</th><th scope=col>cancel_date</th><th scope=col>finish_date</th></tr>\n",
       "\t<tr><th scope=col>&lt;dbl&gt;</th><th scope=col>&lt;dbl&gt;</th><th scope=col>&lt;dttm&gt;</th><th scope=col>&lt;dttm&gt;</th><th scope=col>&lt;dttm&gt;</th><th scope=col>&lt;dttm&gt;</th></tr>\n",
       "</thead>\n",
       "<tbody>\n",
       "\t<tr><td>7.036883e+13</td><td>7.036875e+13</td><td>2018-03-09 22:09:00</td><td>2018-03-09 22:09:00</td><td>1970-12-31 13:00:00</td><td>2018-03-09 22:37:00</td></tr>\n",
       "\t<tr><td>7.036883e+13</td><td>7.036875e+13</td><td>2018-03-05 19:54:00</td><td>2018-03-05 19:54:00</td><td>1970-12-31 13:00:00</td><td>2018-03-05 20:29:00</td></tr>\n",
       "\t<tr><td>7.036883e+13</td><td>7.036875e+13</td><td>2018-03-08 20:35:00</td><td>2018-03-08 20:37:00</td><td>1970-12-31 13:00:00</td><td>2018-03-08 20:54:00</td></tr>\n",
       "\t<tr><td>7.036883e+13</td><td>7.036875e+13</td><td>2018-03-05 16:31:00</td><td>2018-03-05 16:31:00</td><td>2018-03-05 16:32:00</td><td>1970-12-31 13:00:00</td></tr>\n",
       "\t<tr><td>7.036883e+13</td><td>7.036875e+13</td><td>2018-03-05 16:32:00</td><td>2018-03-05 16:33:00</td><td>2018-03-05 16:34:00</td><td>1970-12-31 13:00:00</td></tr>\n",
       "\t<tr><td>7.036883e+13</td><td>7.036875e+13</td><td>2018-03-08 13:49:00</td><td>2018-03-08 13:49:00</td><td>2018-03-08 13:50:00</td><td>1970-12-31 13:00:00</td></tr>\n",
       "</tbody>\n",
       "</table>\n"
      ],
      "text/latex": [
       "A tibble: 6 × 6\n",
       "\\begin{tabular}{llllll}\n",
       " order\\_id & passenger\\_id & call\\_date & grab\\_date & cancel\\_date & finish\\_date\\\\\n",
       " <dbl> & <dbl> & <dttm> & <dttm> & <dttm> & <dttm>\\\\\n",
       "\\hline\n",
       "\t 7.036883e+13 & 7.036875e+13 & 2018-03-09 22:09:00 & 2018-03-09 22:09:00 & 1970-12-31 13:00:00 & 2018-03-09 22:37:00\\\\\n",
       "\t 7.036883e+13 & 7.036875e+13 & 2018-03-05 19:54:00 & 2018-03-05 19:54:00 & 1970-12-31 13:00:00 & 2018-03-05 20:29:00\\\\\n",
       "\t 7.036883e+13 & 7.036875e+13 & 2018-03-08 20:35:00 & 2018-03-08 20:37:00 & 1970-12-31 13:00:00 & 2018-03-08 20:54:00\\\\\n",
       "\t 7.036883e+13 & 7.036875e+13 & 2018-03-05 16:31:00 & 2018-03-05 16:31:00 & 2018-03-05 16:32:00 & 1970-12-31 13:00:00\\\\\n",
       "\t 7.036883e+13 & 7.036875e+13 & 2018-03-05 16:32:00 & 2018-03-05 16:33:00 & 2018-03-05 16:34:00 & 1970-12-31 13:00:00\\\\\n",
       "\t 7.036883e+13 & 7.036875e+13 & 2018-03-08 13:49:00 & 2018-03-08 13:49:00 & 2018-03-08 13:50:00 & 1970-12-31 13:00:00\\\\\n",
       "\\end{tabular}\n"
      ],
      "text/markdown": [
       "\n",
       "A tibble: 6 × 6\n",
       "\n",
       "| order_id &lt;dbl&gt; | passenger_id &lt;dbl&gt; | call_date &lt;dttm&gt; | grab_date &lt;dttm&gt; | cancel_date &lt;dttm&gt; | finish_date &lt;dttm&gt; |\n",
       "|---|---|---|---|---|---|\n",
       "| 7.036883e+13 | 7.036875e+13 | 2018-03-09 22:09:00 | 2018-03-09 22:09:00 | 1970-12-31 13:00:00 | 2018-03-09 22:37:00 |\n",
       "| 7.036883e+13 | 7.036875e+13 | 2018-03-05 19:54:00 | 2018-03-05 19:54:00 | 1970-12-31 13:00:00 | 2018-03-05 20:29:00 |\n",
       "| 7.036883e+13 | 7.036875e+13 | 2018-03-08 20:35:00 | 2018-03-08 20:37:00 | 1970-12-31 13:00:00 | 2018-03-08 20:54:00 |\n",
       "| 7.036883e+13 | 7.036875e+13 | 2018-03-05 16:31:00 | 2018-03-05 16:31:00 | 2018-03-05 16:32:00 | 1970-12-31 13:00:00 |\n",
       "| 7.036883e+13 | 7.036875e+13 | 2018-03-05 16:32:00 | 2018-03-05 16:33:00 | 2018-03-05 16:34:00 | 1970-12-31 13:00:00 |\n",
       "| 7.036883e+13 | 7.036875e+13 | 2018-03-08 13:49:00 | 2018-03-08 13:49:00 | 2018-03-08 13:50:00 | 1970-12-31 13:00:00 |\n",
       "\n"
      ],
      "text/plain": [
       "  order_id     passenger_id call_date           grab_date          \n",
       "1 7.036883e+13 7.036875e+13 2018-03-09 22:09:00 2018-03-09 22:09:00\n",
       "2 7.036883e+13 7.036875e+13 2018-03-05 19:54:00 2018-03-05 19:54:00\n",
       "3 7.036883e+13 7.036875e+13 2018-03-08 20:35:00 2018-03-08 20:37:00\n",
       "4 7.036883e+13 7.036875e+13 2018-03-05 16:31:00 2018-03-05 16:31:00\n",
       "5 7.036883e+13 7.036875e+13 2018-03-05 16:32:00 2018-03-05 16:33:00\n",
       "6 7.036883e+13 7.036875e+13 2018-03-08 13:49:00 2018-03-08 13:49:00\n",
       "  cancel_date         finish_date        \n",
       "1 1970-12-31 13:00:00 2018-03-09 22:37:00\n",
       "2 1970-12-31 13:00:00 2018-03-05 20:29:00\n",
       "3 1970-12-31 13:00:00 2018-03-08 20:54:00\n",
       "4 2018-03-05 16:32:00 1970-12-31 13:00:00\n",
       "5 2018-03-05 16:34:00 1970-12-31 13:00:00\n",
       "6 2018-03-08 13:50:00 1970-12-31 13:00:00"
      ]
     },
     "metadata": {},
     "output_type": "display_data"
    }
   ],
   "source": [
    "std_order_df %>% head() # a data frame in Brazil time zone"
   ]
  },
  {
   "cell_type": "markdown",
   "metadata": {},
   "source": [
    "<div class=\"alert-success\">\n",
    "1. check the response rate and complete rate\n",
    "</div>"
   ]
  },
  {
   "cell_type": "code",
   "execution_count": 13,
   "metadata": {},
   "outputs": [
    {
     "name": "stderr",
     "output_type": "stream",
     "text": [
      "Warning message:\n",
      "\"package 'tibbletime' was built under R version 4.0.3\"\n",
      "\n",
      "Attaching package: 'tibbletime'\n",
      "\n",
      "\n",
      "The following object is masked from 'package:stats':\n",
      "\n",
      "    filter\n",
      "\n",
      "\n"
     ]
    }
   ],
   "source": [
    "library(tibbletime) # load library tibbletime to convert Beijing time to Brazil time"
   ]
  },
  {
   "cell_type": "code",
   "execution_count": 14,
   "metadata": {},
   "outputs": [
    {
     "data": {
      "text/html": [
       "0.723905723905724"
      ],
      "text/latex": [
       "0.723905723905724"
      ],
      "text/markdown": [
       "0.723905723905724"
      ],
      "text/plain": [
       "[1] 0.7239057"
      ]
     },
     "metadata": {},
     "output_type": "display_data"
    },
    {
     "data": {
      "text/html": [
       "'72%'"
      ],
      "text/latex": [
       "'72\\%'"
      ],
      "text/markdown": [
       "'72%'"
      ],
      "text/plain": [
       "[1] \"72%\""
      ]
     },
     "metadata": {},
     "output_type": "display_data"
    }
   ],
   "source": [
    "# response rate = the amount of response / the number of orders from customers\n",
    "\n",
    "call_num <-std_order_df  %>% \n",
    "  select(call_date) %>% # select the column call_date\n",
    "  nrow() #the number of calling\n",
    "ans_num <- std_order_df %>% \n",
    "  filter(year(grab_date)!=1970) %>% # filter out the data with \"1970\" since it is not valid \n",
    "  nrow() # the number of response\n",
    "\n",
    "response_rate <- ans_num/call_num\n",
    "response_rate\n",
    "percent(response_rate) #response rate"
   ]
  },
  {
   "cell_type": "markdown",
   "metadata": {},
   "source": [
    "#### complete rate is 72.39%"
   ]
  },
  {
   "cell_type": "code",
   "execution_count": 15,
   "metadata": {},
   "outputs": [
    {
     "data": {
      "text/html": [
       "0.471380471380471"
      ],
      "text/latex": [
       "0.471380471380471"
      ],
      "text/markdown": [
       "0.471380471380471"
      ],
      "text/plain": [
       "[1] 0.4713805"
      ]
     },
     "metadata": {},
     "output_type": "display_data"
    },
    {
     "data": {
      "text/html": [
       "'47%'"
      ],
      "text/latex": [
       "'47\\%'"
      ],
      "text/markdown": [
       "'47%'"
      ],
      "text/plain": [
       "[1] \"47%\""
      ]
     },
     "metadata": {},
     "output_type": "display_data"
    }
   ],
   "source": [
    "# complete rate = the amount of complete order / the number of order from customers\n",
    "\n",
    "finish_num <- std_order_df %>% \n",
    "  filter(year(finish_date)!=1970) %>% # filter out the data with \"1970\" since it is not valid \n",
    "  nrow() # the number of finished order\n",
    "\n",
    "finish_rate = finish_num/call_num # # 完单率 = 完成订单/呼叫订单\n",
    "finish_rate\n",
    "percent(finish_rate)"
   ]
  },
  {
   "cell_type": "markdown",
   "metadata": {},
   "source": [
    "#### complete rate 47.13%"
   ]
  },
  {
   "cell_type": "markdown",
   "metadata": {},
   "source": [
    "<div class=\"alert-success\">\n",
    "2. how long is the response time？\n",
    "</div>"
   ]
  },
  {
   "cell_type": "code",
   "execution_count": 16,
   "metadata": {},
   "outputs": [
    {
     "data": {
      "text/plain": [
       "Time difference of 43.53488 secs"
      ]
     },
     "metadata": {},
     "output_type": "display_data"
    }
   ],
   "source": [
    "\n",
    "# reponse time = the period of time betweeen order is placed and the order is picked / answered order amount\n",
    "# the period of time between order is placed and the order is picked = picked time - ordered time\n",
    "\n",
    "std_date_df <- std_order_df %>% \n",
    "  filter(year(grab_date)!=1970) # make a new dataframe with valid year only\n",
    "\n",
    "std_date_df$interval <- difftime(std_date_df$grab_date,std_date_df$call_date,units = \"secs\") \n",
    "# the period of time between order is placed and the order is picked = picked time - ordered time\n",
    "# create a column named interval to store the response time interval\n",
    "\n",
    "response_sum <- sum(std_date_df$interval)/ans_num # reponse time = the period of time betweeen order is placed and the order is picked / answered order amount\n",
    "response_sum"
   ]
  },
  {
   "cell_type": "markdown",
   "metadata": {},
   "source": [
    "#### response time is 43.53 sec"
   ]
  },
  {
   "cell_type": "markdown",
   "metadata": {},
   "source": [
    "<div class=\"alert-success\">\n",
    "3. from the dataset, check which hour is the peak, and the lowest period\n",
    "<div class=\"alert-success\">"
   ]
  },
  {
   "cell_type": "code",
   "execution_count": 17,
   "metadata": {},
   "outputs": [
    {
     "name": "stderr",
     "output_type": "stream",
     "text": [
      "`summarise()` ungrouping output (override with `.groups` argument)\n",
      "\n"
     ]
    },
    {
     "data": {
      "text/html": [
       "<table>\n",
       "<caption>A tibble: 1 × 2</caption>\n",
       "<thead>\n",
       "\t<tr><th scope=col>call_hour</th><th scope=col>count</th></tr>\n",
       "\t<tr><th scope=col>&lt;int&gt;</th><th scope=col>&lt;int&gt;</th></tr>\n",
       "</thead>\n",
       "<tbody>\n",
       "\t<tr><td>18</td><td>40</td></tr>\n",
       "</tbody>\n",
       "</table>\n"
      ],
      "text/latex": [
       "A tibble: 1 × 2\n",
       "\\begin{tabular}{ll}\n",
       " call\\_hour & count\\\\\n",
       " <int> & <int>\\\\\n",
       "\\hline\n",
       "\t 18 & 40\\\\\n",
       "\\end{tabular}\n"
      ],
      "text/markdown": [
       "\n",
       "A tibble: 1 × 2\n",
       "\n",
       "| call_hour &lt;int&gt; | count &lt;int&gt; |\n",
       "|---|---|\n",
       "| 18 | 40 |\n",
       "\n"
      ],
      "text/plain": [
       "  call_hour count\n",
       "1 18        40   "
      ]
     },
     "metadata": {},
     "output_type": "display_data"
    }
   ],
   "source": [
    "# we may need to create another column named call_hour to store the hour of call_date\n",
    "# As we have already transfered from Beijing time to Brazil time, working on dataframe std_order_df is enough.\n",
    "\n",
    "std_order_df$call_hour <- hour(std_order_df$call_date) # extract hour only from call_date to create call_hour\n",
    "std_order_df %>% \n",
    "  group_by(call_hour) %>% # group by call_hour \n",
    "  summarise(max_id = max(order_id),count = n()) %>% # summarise by max order id and count the frequency\n",
    "  select(-max_id) %>% # drop redundant column\n",
    "  top_n(1, count) # 1 means decreasing order"
   ]
  },
  {
   "cell_type": "code",
   "execution_count": 18,
   "metadata": {},
   "outputs": [
    {
     "name": "stderr",
     "output_type": "stream",
     "text": [
      "`summarise()` ungrouping output (override with `.groups` argument)\n",
      "\n"
     ]
    },
    {
     "data": {
      "text/html": [
       "<table>\n",
       "<caption>A tibble: 2 × 2</caption>\n",
       "<thead>\n",
       "\t<tr><th scope=col>call_hour</th><th scope=col>count</th></tr>\n",
       "\t<tr><th scope=col>&lt;int&gt;</th><th scope=col>&lt;int&gt;</th></tr>\n",
       "</thead>\n",
       "<tbody>\n",
       "\t<tr><td>2</td><td>1</td></tr>\n",
       "\t<tr><td>3</td><td>1</td></tr>\n",
       "</tbody>\n",
       "</table>\n"
      ],
      "text/latex": [
       "A tibble: 2 × 2\n",
       "\\begin{tabular}{ll}\n",
       " call\\_hour & count\\\\\n",
       " <int> & <int>\\\\\n",
       "\\hline\n",
       "\t 2 & 1\\\\\n",
       "\t 3 & 1\\\\\n",
       "\\end{tabular}\n"
      ],
      "text/markdown": [
       "\n",
       "A tibble: 2 × 2\n",
       "\n",
       "| call_hour &lt;int&gt; | count &lt;int&gt; |\n",
       "|---|---|\n",
       "| 2 | 1 |\n",
       "| 3 | 1 |\n",
       "\n"
      ],
      "text/plain": [
       "  call_hour count\n",
       "1 2         1    \n",
       "2 3         1    "
      ]
     },
     "metadata": {},
     "output_type": "display_data"
    }
   ],
   "source": [
    "std_order_df$call_hour <- hour(std_order_df$call_date) # extract hour only from call_date to create call_hour\n",
    "std_order_df %>% \n",
    "  group_by(call_hour) %>% \n",
    "  summarise(max_id = max(order_id),count = n()) %>%\n",
    "  select(-max_id) %>% # drop redundant column\n",
    "  top_n(-1, count) # -1 means increasing order"
   ]
  },
  {
   "cell_type": "markdown",
   "metadata": {},
   "source": [
    "<div class=\"alert-success\">\n",
    "4. the people placed the order and continue to place the order in the second day\n",
    "</div>"
   ]
  },
  {
   "cell_type": "code",
   "execution_count": 19,
   "metadata": {},
   "outputs": [
    {
     "data": {
      "text/html": [
       "0"
      ],
      "text/latex": [
       "0"
      ],
      "text/markdown": [
       "0"
      ],
      "text/plain": [
       "[1] 0"
      ]
     },
     "metadata": {},
     "output_type": "display_data"
    }
   ],
   "source": [
    "# the ratio of people continue using the App in the second dat = the number of users who continued use in the second day / the total order\n",
    "# we need to find the day interval with 1\n",
    "# first extract day from call_date\n",
    "std_order_df$date <- as.Date(std_order_df$call_date, format = \"%Y-%m-%d\") \n",
    "std_order_df %>% distinct(order_id, date) -> df1 # distinct a dataframe with date\n",
    "std_order_df %>% distinct(order_id, date) -> df2\n",
    "\n",
    "df1 %>%\n",
    "  inner_join(df2, by = c(\"order_id\" = \"order_id\")) %>% # join them to see whether the same user have differenct call date\n",
    "  filter(difftime(date.y, date.x, units=\"days\") == 1) %>% # filter out the date in second day\n",
    "  nrow() -> call_second # the amount of calling in second day named call_second\n",
    "\n",
    "call_second/call_num # the ratio of people continue using the App in the second dat = the number of users who continued use in the second day / the total order\n",
    "\n",
    "# interesting, I am actually stuck on this for a while but I cannot find an error in my code. Is it about the logic I got wrong?"
   ]
  },
  {
   "cell_type": "markdown",
   "metadata": {},
   "source": [
    "\n",
    "## Thanks for your time and have a good day!"
   ]
  }
 ],
 "metadata": {
  "kernelspec": {
   "display_name": "R",
   "language": "R",
   "name": "ir"
  },
  "language_info": {
   "codemirror_mode": "r",
   "file_extension": ".r",
   "mimetype": "text/x-r-source",
   "name": "R",
   "pygments_lexer": "r",
   "version": "4.0.2"
  }
 },
 "nbformat": 4,
 "nbformat_minor": 4
}
